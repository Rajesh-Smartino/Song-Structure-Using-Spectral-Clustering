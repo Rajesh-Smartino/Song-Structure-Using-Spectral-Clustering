{
 "cells": [
  {
   "cell_type": "code",
   "execution_count": 55,
   "id": "82eac8e1-0a0f-4069-8288-be18195409db",
   "metadata": {},
   "outputs": [],
   "source": [
    "import os\n",
    "import pandas as pd\n",
    "import numpy as np\n",
    "from pydub import AudioSegment"
   ]
  },
  {
   "cell_type": "code",
   "execution_count": 56,
   "id": "75618329-2af1-425c-9037-d1422e60867d",
   "metadata": {},
   "outputs": [],
   "source": [
    "def splitaudio(audio, t1, t2, c):\n",
    "    x1, x2 = t1, t2\n",
    "    t1 = t1 * 1000\n",
    "    t2 = t2 * 1000\n",
    "    audio = audio[t1:t2]\n",
    "    \n",
    "    audio.export('/Users/rajeshr/Desktop/Output/'+str(c)+'/'+str(x1)+'to'+str(x2)+'.wav', format=\"wav\")"
   ]
  },
  {
   "cell_type": "code",
   "execution_count": 57,
   "id": "8d3539b6-9deb-4184-8f40-f2728da86676",
   "metadata": {},
   "outputs": [],
   "source": [
    "def makefolders(c):\n",
    "    path = \"/Users/rajeshr/Desktop/Output/\"\n",
    "    for n in c:\n",
    "        folder = path+str(n)\n",
    "        if not os.path.isdir(folder):\n",
    "            os.makedirs(folder)"
   ]
  },
  {
   "cell_type": "code",
   "execution_count": 58,
   "id": "8d18da71-9d3a-4f16-ba09-ce82258982c4",
   "metadata": {},
   "outputs": [],
   "source": [
    "audio = AudioSegment.from_wav(\"/Users/rajeshr/Desktop/Queen.wav\")\n",
    "\n",
    "sheet = pd.read_csv(\"/Users/rajeshr/Desktop/Queen.csv\")\n",
    "m, n = sheet.shape\n",
    "\n",
    "maxC = max(sheet['C'])\n",
    "c = np.arange(maxC+1)    \n",
    "makefolders(c)\n",
    "\n",
    "for i in range(m):\n",
    "    t1, t2, c = sheet['T1'][i], sheet['T2'][i], sheet['C'][i]\n",
    "    splitaudio(audio, t1, t2, c)"
   ]
  },
  {
   "cell_type": "code",
   "execution_count": null,
   "id": "7ca5693d-282e-4056-b55b-3fc9987c4d4d",
   "metadata": {},
   "outputs": [],
   "source": []
  },
  {
   "cell_type": "code",
   "execution_count": null,
   "id": "bc011783-0c81-4aec-936e-191ee60ad0cd",
   "metadata": {},
   "outputs": [],
   "source": []
  },
  {
   "cell_type": "code",
   "execution_count": null,
   "id": "23a9b4e1-b77d-43ea-804a-b9faa8326cb1",
   "metadata": {},
   "outputs": [],
   "source": []
  },
  {
   "cell_type": "code",
   "execution_count": null,
   "id": "7ec93490-2b3c-4e6d-b902-cdefde128e5d",
   "metadata": {},
   "outputs": [],
   "source": []
  },
  {
   "cell_type": "code",
   "execution_count": null,
   "id": "3304db48-4490-422c-905f-2fb33bd476a7",
   "metadata": {},
   "outputs": [],
   "source": []
  }
 ],
 "metadata": {
  "kernelspec": {
   "display_name": "Python 3",
   "language": "python",
   "name": "python3"
  },
  "language_info": {
   "codemirror_mode": {
    "name": "ipython",
    "version": 3
   },
   "file_extension": ".py",
   "mimetype": "text/x-python",
   "name": "python",
   "nbconvert_exporter": "python",
   "pygments_lexer": "ipython3",
   "version": "3.9.6"
  }
 },
 "nbformat": 4,
 "nbformat_minor": 5
}
